{
  "nbformat": 4,
  "nbformat_minor": 0,
  "metadata": {
    "colab": {
      "provenance": [],
      "include_colab_link": true
    },
    "kernelspec": {
      "name": "python3",
      "display_name": "Python 3"
    },
    "language_info": {
      "name": "python"
    }
  },
  "cells": [
    {
      "cell_type": "markdown",
      "metadata": {
        "id": "view-in-github",
        "colab_type": "text"
      },
      "source": [
        "<a href=\"https://colab.research.google.com/github/Yurihc001/OpenCV.ipynb/blob/main/Vis%C3%A3o_Computacional_usando_OpenCV.ipynb\" target=\"_parent\"><img src=\"https://colab.research.google.com/assets/colab-badge.svg\" alt=\"Open In Colab\"/></a>"
      ]
    },
    {
      "cell_type": "markdown",
      "source": [
        "#**Visão Computacional usando OpenCV**\n",
        "Rodrigo Plotze"
      ],
      "metadata": {
        "id": "bAylwlburu6r"
      }
    },
    {
      "cell_type": "markdown",
      "source": [
        "#Fundamentos"
      ],
      "metadata": {
        "id": "vMlhaaTHsmGg"
      }
    },
    {
      "cell_type": "code",
      "source": [
        "# Imagens de Teste\n",
        "!wget \"https://www.ime.usp.br/~yoshi/2015ii/ccm118/sandbox/2015.10.14/Data/peppers.jpg\"\n",
        "!wget \"https://www.ime.usp.br/~yoshi/2015ii/ccm118/sandbox/2015.10.14/Data/mandrill.jpg\"\n",
        "\n",
        "!wget \"https://links.uwaterloo.ca/Repository/TIF/tulips.tif\"\n",
        "!wget \"https://links.uwaterloo.ca/Repository/TIF/sail.tif\""
      ],
      "metadata": {
        "id": "I_SbyouXso6a"
      },
      "execution_count": null,
      "outputs": []
    },
    {
      "cell_type": "code",
      "source": [
        "import cv2 as cv\n",
        "import matplotlib.pyplot as plt\n",
        "\n",
        "# carregar a imagem -> BGR\n",
        "img1 = cv.imread('peppers.jpg')\n",
        "\n",
        "# converter a imagem BGR para RGB\n",
        "img1 = cv.cvtColor(img1, cv.COLOR_BGR2RGB)\n",
        "img2 = cv.cvtColor(img1, cv.COLOR_RGB2GRAY)\n",
        "\n",
        "\n",
        "# converter a imagem GRAY para Preto/Branco (Binária)\n",
        "th, img3 = cv.threshold(img2, 128, 255, cv.THRESH_BINARY)\n",
        "\n",
        "#\n",
        "# Propriedades da imagem\n",
        "#\n",
        "print(img1.shape)     # (largura, altura, número de canais)\n",
        "print(img2.shape)\n",
        "print('Total de pixels = %d' %img1.size)\n",
        "\n",
        "# visualizar a imagem\n",
        "plt.figure(figsize=(10,10))\n",
        "plt.subplot(131), plt.imshow(img1), plt.axis('off'), plt.title('colorida')\n",
        "plt.subplot(132), plt.imshow(img2, cmap='gray'), plt.axis('off'), plt.title('tons cinza')\n",
        "plt.subplot(133), plt.imshow(img3, cmap='binary'), plt.axis('off'), plt.title('binária')\n",
        "plt.show()\n"
      ],
      "metadata": {
        "id": "ohxs88YjtPQc"
      },
      "execution_count": null,
      "outputs": []
    },
    {
      "cell_type": "markdown",
      "source": [
        "#Operações Pontuais"
      ],
      "metadata": {
        "id": "efq78qDS4jzS"
      }
    },
    {
      "cell_type": "code",
      "source": [
        "import cv2 as cv\n",
        "import matplotlib.pyplot as plt\n",
        "\n",
        "img1 = cv.imread('tulips.tif')\n",
        "img2 = cv.imread('sail.tif')\n",
        "\n",
        "img1 = cv.cvtColor(img1, cv.COLOR_BGR2RGB)\n",
        "img2 = cv.cvtColor(img2, cv.COLOR_BGR2RGB)\n",
        "\n",
        "\n",
        "#\n",
        "# OPERAÇÕES PONTUAIS\n",
        "#\n",
        "img3 = cv.add(img1, 60)       # adicionar o valor 60 a cada pixel da imagem\n",
        "img4 = cv.bitwise_not(img1)   # negação\n",
        "img5 = cv.addWeighted(img1,0.50,img2,0.50,0)\n",
        "\n",
        "\n",
        "\n",
        "plt.figure(figsize=(25,15))\n",
        "plt.subplot(241), plt.imshow(img1), plt.axis('off'), plt.title('original')\n",
        "plt.subplot(242), plt.imshow(img3), plt.axis('off'), plt.title('adição')\n",
        "plt.subplot(243), plt.imshow(img4), plt.axis('off'), plt.title('negação')\n",
        "plt.subplot(244), plt.imshow(img5), plt.axis('off'), plt.title('img1+img2')\n",
        "plt.show()\n"
      ],
      "metadata": {
        "id": "wGCzxhNO4nQa"
      },
      "execution_count": null,
      "outputs": []
    },
    {
      "cell_type": "markdown",
      "source": [
        "# Filtros Digitais"
      ],
      "metadata": {
        "id": "Q-8ldOnM8Uj3"
      }
    },
    {
      "cell_type": "code",
      "source": [
        "import cv2 as cv\n",
        "import matplotlib.pyplot as plt\n",
        "import numpy as np\n",
        "\n",
        "img1 = cv.imread('peppers.jpg')\n",
        "img1 = cv.cvtColor(img1, cv.COLOR_BGR2RGB)\n",
        "\n",
        "# Filtro Passa-Baixa (suavização)\n",
        "img2 = cv.blur(img1, (5,5))\n",
        "img3 = cv.medianBlur(img1, 15)\n",
        "img4 = cv.GaussianBlur(img1, (5,5), 0)\n",
        "\n",
        "# Filtro Passa-Alta (realce)\n",
        "mask = np.array( [[0,-1,0],[-1,5,-1],[0,-1, 0]])\n",
        "img5 = cv.filter2D(img1,-1,mask)\n",
        "\n",
        "mask = np.array( [[-1,-1,-1],[-1,9,-1],[-1,-1, -1]])\n",
        "img6 = cv.filter2D(img1,-1,mask)\n",
        "\n",
        "plt.figure(figsize=(15,8))\n",
        "plt.subplot(231), plt.imshow(img1), plt.axis('off'), plt.title('original')\n",
        "plt.subplot(232), plt.imshow(img2), plt.axis('off'), plt.title('blur')\n",
        "plt.subplot(233), plt.imshow(img3), plt.axis('off'), plt.title('medianBlur')\n",
        "plt.subplot(234), plt.imshow(img4), plt.axis('off'), plt.title('GaussianBlur')\n",
        "plt.subplot(235), plt.imshow(img5), plt.axis('off'), plt.title('realce')\n",
        "plt.subplot(236), plt.imshow(img6), plt.axis('off'), plt.title('realce')\n",
        "plt.show()\n"
      ],
      "metadata": {
        "id": "1U5vHG_m8Wrx"
      },
      "execution_count": null,
      "outputs": []
    },
    {
      "cell_type": "markdown",
      "source": [
        "#Detectores de Borda"
      ],
      "metadata": {
        "id": "qEE1umxN_PyX"
      }
    },
    {
      "cell_type": "code",
      "source": [
        "import cv2 as cv\n",
        "import matplotlib.pyplot as plt\n",
        "\n",
        "img1 = cv.imread('peppers.jpg')\n",
        "img1 = cv.cvtColor(img1, cv.COLOR_BGR2GRAY)\n",
        "\n",
        "# Canny\n",
        "img2 = cv.Canny(img1, 40, 180)\n",
        "img2 = cv.bitwise_not(img2)\n",
        "\n",
        "plt.figure(figsize=(15,8))\n",
        "plt.subplot(121), plt.imshow(img1, cmap='gray'), plt.axis('off'), plt.title('original')\n",
        "plt.subplot(122), plt.imshow(img2, cmap='gray'), plt.axis('off'), plt.title('canny')\n",
        "plt.show()"
      ],
      "metadata": {
        "id": "TLjHmeRI_T-O"
      },
      "execution_count": null,
      "outputs": []
    },
    {
      "cell_type": "markdown",
      "source": [
        "#Segmentação por Cor"
      ],
      "metadata": {
        "id": "dr3jaC9gAeOS"
      }
    },
    {
      "cell_type": "code",
      "source": [
        "import cv2 as cv\n",
        "import matplotlib.pyplot as plt\n",
        "import numpy as np\n",
        "\n",
        "def segmentar(img, mask):\n",
        "  a = img.copy()\n",
        "  a[:,:,0] = mask\n",
        "  a[:,:,1] = mask\n",
        "  a[:,:,2] = mask\n",
        "  a = cv.bitwise_and(img,a)\n",
        "  return a\n",
        "\n",
        "\n",
        "# Imagem artificial de 500x500 com 3 canais\n",
        "img1 = np.ones((500,500,3),np.uint8)*255\n",
        "img1 = cv.circle(img1, (50,50), 30, (255,0,0), -1)\n",
        "img1 = cv.circle(img1, (350,60), 40, (255,0,0), -1)\n",
        "img1 = cv.circle(img1, (50,460), 50, (255,0,0), -1)\n",
        "img1 = cv.circle(img1, (250,260), 40, (255,0,0), -1)\n",
        "img1 = cv.circle(img1, (260,460), 30, (0,0,255), -1)\n",
        "img1 = cv.circle(img1, (440,160), 50, (0,0,255), -1)\n",
        "img1 = cv.circle(img1, (60,160), 50, (0,0,255), -1)\n",
        "img1 = cv.circle(img1, (260,120), 50, (255,255,0), -1)\n",
        "img1 = cv.circle(img1, (400,320), 50, (255,255,0), -1)\n",
        "img1 = cv.circle(img1, (80,320), 50, (255,255,0), -1)\n",
        "img1 = cv.circle(img1, (460,460), 30, (0,0,255), -1)\n",
        "\n",
        "\n",
        "# Converter RGB para HSV\n",
        "img2 = cv.cvtColor(img1, cv.COLOR_RGB2HSV)\n",
        "\n",
        "\n",
        "# Segmentação dos pixels do intervalor VERMELHO\n",
        "ini = np.array( [0, 120, 80])\n",
        "fim = np.array( [20, 255, 255])\n",
        "mask = cv.inRange(img2, ini, fim)\n",
        "imgr = segmentar(img2, mask)\n",
        "imgr = cv.cvtColor(imgr, cv.COLOR_HSV2RGB)\n",
        "\n",
        "# Segmentação dos pixels do intervalor AMARELO\n",
        "ini = np.array( [30, 120, 80])\n",
        "fim = np.array( [60, 255, 255])\n",
        "mask = cv.inRange(img2, ini, fim)\n",
        "imga = segmentar(img2, mask)\n",
        "imga = cv.cvtColor(imga, cv.COLOR_HSV2RGB)\n",
        "\n",
        "plt.figure(figsize=(15,12))\n",
        "plt.subplot(131), plt.imshow(img1), plt.axis('off'), plt.title('original')\n",
        "plt.subplot(132), plt.imshow(imgr), plt.axis('off'), plt.title('vermelho')\n",
        "plt.subplot(133), plt.imshow(imga), plt.axis('off'), plt.title('amarelo')\n",
        "plt.show()\n"
      ],
      "metadata": {
        "colab": {
          "base_uri": "https://localhost:8080/",
          "height": 293
        },
        "id": "-bGcTpqzAtXW",
        "outputId": "a3c2459d-3bfc-4a01-98f3-d21423f15776"
      },
      "execution_count": null,
      "outputs": [
        {
          "output_type": "display_data",
          "data": {
            "text/plain": [
              "<Figure size 1080x864 with 3 Axes>"
            ],
            "image/png": "[encoded data removed]"
          },
          "metadata": {
            "needs_background": "light"
          }
        }
      ]
    }
  ]
}